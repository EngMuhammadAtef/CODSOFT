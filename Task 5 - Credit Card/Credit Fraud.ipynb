{
 "cells": [
  {
   "cell_type": "markdown",
   "id": "6388d9f0",
   "metadata": {},
   "source": [
    "# TASK 5"
   ]
  },
  {
   "cell_type": "markdown",
   "id": "ea65b92f",
   "metadata": {},
   "source": [
    "## About Dataset"
   ]
  },
  {
   "cell_type": "markdown",
   "id": "fd62949f",
   "metadata": {},
   "source": [
    "## Credit Fraud Detector\n",
    "**Note: There are still aspects of this kernel that will be subjected to changes. I've noticed a recent increase of interest towards this kernel so I will focus more on the steps I took and why I took them to make it clear why I took those steps.**\n",
    "\n",
    "**Context**\n",
    "\n",
    "It is important that credit card companies are able to recognize fraudulent credit card transactions so that customers are not charged for items that they did not purchase.\n",
    "\n",
    "**Content**\n",
    "\n",
    "The dataset contains transactions made by credit cards in September 2013 by European cardholders.\n",
    "This dataset presents transactions that occurred in two days, where we have 492 frauds out of 284,807 transactions. The dataset is highly unbalanced, the positive class (frauds) account for 0.172% of all transactions.\n",
    "\n",
    "It contains only numerical input variables which are the result of a PCA transformation. Unfortunately, due to confidentiality issues, we cannot provide the original features and more background information about the data. Features V1, V2, … V28 are the principal components obtained with PCA, the only features which have not been transformed with PCA are 'Time' and 'Amount'. Feature 'Time' contains the seconds elapsed between each transaction and the first transaction in the dataset. The feature 'Amount' is the transaction Amount, this feature can be used for example-dependant cost-sensitive learning. Feature 'Class' is the response variable and it takes value 1 in case of fraud and 0 otherwise."
    "Dataset on Kaggle: https://www.kaggle.com/datasets/mlg-ulb/creditcardfraud"
   ]
  },
  {
   "cell_type": "code",
   "execution_count": 1,
   "id": "17c99539",
   "metadata": {},
   "outputs": [],
   "source": [
    "# !pip install imbalanced-learn"
   ]
  },
  {
   "cell_type": "markdown",
   "id": "cff50bbb",
   "metadata": {},
   "source": [
    "# DATA EXPLORING"
   ]
  },
  {
   "cell_type": "markdown",
   "id": "4b152f47",
   "metadata": {},
   "source": [
    "#### Importing Libraries"
   ]
  },
  {
   "cell_type": "code",
   "execution_count": 2,
   "id": "ac90fc2b",
   "metadata": {},
   "outputs": [],
   "source": [
    "import numpy as np\n",
    "import pandas as pd\n",
    "import matplotlib.pyplot as plt\n",
    "import seaborn as sns\n",
    "import warnings\n",
    "warnings.filterwarnings(\"ignore\")"
   ]
  },
  {
   "cell_type": "markdown",
   "id": "e9ce5ce4",
   "metadata": {},
   "source": [
    "#### Import dataset"
   ]
  },
  {
   "cell_type": "code",
   "execution_count": 3,
   "id": "7402cfd0",
   "metadata": {
    "scrolled": true
   },
   "outputs": [
    {
     "data": {
      "text/html": [
       "<div>\n",
       "<style scoped>\n",
       "    .dataframe tbody tr th:only-of-type {\n",
       "        vertical-align: middle;\n",
       "    }\n",
       "\n",
       "    .dataframe tbody tr th {\n",
       "        vertical-align: top;\n",
       "    }\n",
       "\n",
       "    .dataframe thead th {\n",
       "        text-align: right;\n",
       "    }\n",
       "</style>\n",
       "<table border=\"1\" class=\"dataframe\">\n",
       "  <thead>\n",
       "    <tr style=\"text-align: right;\">\n",
       "      <th></th>\n",
       "      <th>Time</th>\n",
       "      <th>V1</th>\n",
       "      <th>V2</th>\n",
       "      <th>V3</th>\n",
       "      <th>V4</th>\n",
       "      <th>V5</th>\n",
       "      <th>V6</th>\n",
       "      <th>V7</th>\n",
       "      <th>V8</th>\n",
       "      <th>V9</th>\n",
       "      <th>...</th>\n",
       "      <th>V21</th>\n",
       "      <th>V22</th>\n",
       "      <th>V23</th>\n",
       "      <th>V24</th>\n",
       "      <th>V25</th>\n",
       "      <th>V26</th>\n",
       "      <th>V27</th>\n",
       "      <th>V28</th>\n",
       "      <th>Amount</th>\n",
       "      <th>Class</th>\n",
       "    </tr>\n",
       "  </thead>\n",
       "  <tbody>\n",
       "    <tr>\n",
       "      <th>0</th>\n",
       "      <td>0.0</td>\n",
       "      <td>-1.359807</td>\n",
       "      <td>-0.072781</td>\n",
       "      <td>2.536347</td>\n",
       "      <td>1.378155</td>\n",
       "      <td>-0.338321</td>\n",
       "      <td>0.462388</td>\n",
       "      <td>0.239599</td>\n",
       "      <td>0.098698</td>\n",
       "      <td>0.363787</td>\n",
       "      <td>...</td>\n",
       "      <td>-0.018307</td>\n",
       "      <td>0.277838</td>\n",
       "      <td>-0.110474</td>\n",
       "      <td>0.066928</td>\n",
       "      <td>0.128539</td>\n",
       "      <td>-0.189115</td>\n",
       "      <td>0.133558</td>\n",
       "      <td>-0.021053</td>\n",
       "      <td>149.62</td>\n",
       "      <td>0</td>\n",
       "    </tr>\n",
       "    <tr>\n",
       "      <th>1</th>\n",
       "      <td>0.0</td>\n",
       "      <td>1.191857</td>\n",
       "      <td>0.266151</td>\n",
       "      <td>0.166480</td>\n",
       "      <td>0.448154</td>\n",
       "      <td>0.060018</td>\n",
       "      <td>-0.082361</td>\n",
       "      <td>-0.078803</td>\n",
       "      <td>0.085102</td>\n",
       "      <td>-0.255425</td>\n",
       "      <td>...</td>\n",
       "      <td>-0.225775</td>\n",
       "      <td>-0.638672</td>\n",
       "      <td>0.101288</td>\n",
       "      <td>-0.339846</td>\n",
       "      <td>0.167170</td>\n",
       "      <td>0.125895</td>\n",
       "      <td>-0.008983</td>\n",
       "      <td>0.014724</td>\n",
       "      <td>2.69</td>\n",
       "      <td>0</td>\n",
       "    </tr>\n",
       "    <tr>\n",
       "      <th>2</th>\n",
       "      <td>1.0</td>\n",
       "      <td>-1.358354</td>\n",
       "      <td>-1.340163</td>\n",
       "      <td>1.773209</td>\n",
       "      <td>0.379780</td>\n",
       "      <td>-0.503198</td>\n",
       "      <td>1.800499</td>\n",
       "      <td>0.791461</td>\n",
       "      <td>0.247676</td>\n",
       "      <td>-1.514654</td>\n",
       "      <td>...</td>\n",
       "      <td>0.247998</td>\n",
       "      <td>0.771679</td>\n",
       "      <td>0.909412</td>\n",
       "      <td>-0.689281</td>\n",
       "      <td>-0.327642</td>\n",
       "      <td>-0.139097</td>\n",
       "      <td>-0.055353</td>\n",
       "      <td>-0.059752</td>\n",
       "      <td>378.66</td>\n",
       "      <td>0</td>\n",
       "    </tr>\n",
       "    <tr>\n",
       "      <th>3</th>\n",
       "      <td>1.0</td>\n",
       "      <td>-0.966272</td>\n",
       "      <td>-0.185226</td>\n",
       "      <td>1.792993</td>\n",
       "      <td>-0.863291</td>\n",
       "      <td>-0.010309</td>\n",
       "      <td>1.247203</td>\n",
       "      <td>0.237609</td>\n",
       "      <td>0.377436</td>\n",
       "      <td>-1.387024</td>\n",
       "      <td>...</td>\n",
       "      <td>-0.108300</td>\n",
       "      <td>0.005274</td>\n",
       "      <td>-0.190321</td>\n",
       "      <td>-1.175575</td>\n",
       "      <td>0.647376</td>\n",
       "      <td>-0.221929</td>\n",
       "      <td>0.062723</td>\n",
       "      <td>0.061458</td>\n",
       "      <td>123.50</td>\n",
       "      <td>0</td>\n",
       "    </tr>\n",
       "    <tr>\n",
       "      <th>4</th>\n",
       "      <td>2.0</td>\n",
       "      <td>-1.158233</td>\n",
       "      <td>0.877737</td>\n",
       "      <td>1.548718</td>\n",
       "      <td>0.403034</td>\n",
       "      <td>-0.407193</td>\n",
       "      <td>0.095921</td>\n",
       "      <td>0.592941</td>\n",
       "      <td>-0.270533</td>\n",
       "      <td>0.817739</td>\n",
       "      <td>...</td>\n",
       "      <td>-0.009431</td>\n",
       "      <td>0.798278</td>\n",
       "      <td>-0.137458</td>\n",
       "      <td>0.141267</td>\n",
       "      <td>-0.206010</td>\n",
       "      <td>0.502292</td>\n",
       "      <td>0.219422</td>\n",
       "      <td>0.215153</td>\n",
       "      <td>69.99</td>\n",
       "      <td>0</td>\n",
       "    </tr>\n",
       "  </tbody>\n",
       "</table>\n",
       "<p>5 rows × 31 columns</p>\n",
       "</div>"
      ],
      "text/plain": [
       "   Time        V1        V2        V3        V4        V5        V6        V7  \\\n",
       "0   0.0 -1.359807 -0.072781  2.536347  1.378155 -0.338321  0.462388  0.239599   \n",
       "1   0.0  1.191857  0.266151  0.166480  0.448154  0.060018 -0.082361 -0.078803   \n",
       "2   1.0 -1.358354 -1.340163  1.773209  0.379780 -0.503198  1.800499  0.791461   \n",
       "3   1.0 -0.966272 -0.185226  1.792993 -0.863291 -0.010309  1.247203  0.237609   \n",
       "4   2.0 -1.158233  0.877737  1.548718  0.403034 -0.407193  0.095921  0.592941   \n",
       "\n",
       "         V8        V9  ...       V21       V22       V23       V24       V25  \\\n",
       "0  0.098698  0.363787  ... -0.018307  0.277838 -0.110474  0.066928  0.128539   \n",
       "1  0.085102 -0.255425  ... -0.225775 -0.638672  0.101288 -0.339846  0.167170   \n",
       "2  0.247676 -1.514654  ...  0.247998  0.771679  0.909412 -0.689281 -0.327642   \n",
       "3  0.377436 -1.387024  ... -0.108300  0.005274 -0.190321 -1.175575  0.647376   \n",
       "4 -0.270533  0.817739  ... -0.009431  0.798278 -0.137458  0.141267 -0.206010   \n",
       "\n",
       "        V26       V27       V28  Amount  Class  \n",
       "0 -0.189115  0.133558 -0.021053  149.62      0  \n",
       "1  0.125895 -0.008983  0.014724    2.69      0  \n",
       "2 -0.139097 -0.055353 -0.059752  378.66      0  \n",
       "3 -0.221929  0.062723  0.061458  123.50      0  \n",
       "4  0.502292  0.219422  0.215153   69.99      0  \n",
       "\n",
       "[5 rows x 31 columns]"
      ]
     },
     "execution_count": 3,
     "metadata": {},
     "output_type": "execute_result"
    }
   ],
   "source": [
    "path = 'creditcard.csv'\n",
    "df = pd.read_csv(path)\n",
    "df.head()"
   ]
  },
  {
   "cell_type": "code",
   "execution_count": 4,
   "id": "4ec54a39",
   "metadata": {},
   "outputs": [
    {
     "name": "stdout",
     "output_type": "stream",
     "text": [
      "<class 'pandas.core.frame.DataFrame'>\n",
      "RangeIndex: 284807 entries, 0 to 284806\n",
      "Data columns (total 31 columns):\n",
      " #   Column  Non-Null Count   Dtype  \n",
      "---  ------  --------------   -----  \n",
      " 0   Time    284807 non-null  float64\n",
      " 1   V1      284807 non-null  float64\n",
      " 2   V2      284807 non-null  float64\n",
      " 3   V3      284807 non-null  float64\n",
      " 4   V4      284807 non-null  float64\n",
      " 5   V5      284807 non-null  float64\n",
      " 6   V6      284807 non-null  float64\n",
      " 7   V7      284807 non-null  float64\n",
      " 8   V8      284807 non-null  float64\n",
      " 9   V9      284807 non-null  float64\n",
      " 10  V10     284807 non-null  float64\n",
      " 11  V11     284807 non-null  float64\n",
      " 12  V12     284807 non-null  float64\n",
      " 13  V13     284807 non-null  float64\n",
      " 14  V14     284807 non-null  float64\n",
      " 15  V15     284807 non-null  float64\n",
      " 16  V16     284807 non-null  float64\n",
      " 17  V17     284807 non-null  float64\n",
      " 18  V18     284807 non-null  float64\n",
      " 19  V19     284807 non-null  float64\n",
      " 20  V20     284807 non-null  float64\n",
      " 21  V21     284807 non-null  float64\n",
      " 22  V22     284807 non-null  float64\n",
      " 23  V23     284807 non-null  float64\n",
      " 24  V24     284807 non-null  float64\n",
      " 25  V25     284807 non-null  float64\n",
      " 26  V26     284807 non-null  float64\n",
      " 27  V27     284807 non-null  float64\n",
      " 28  V28     284807 non-null  float64\n",
      " 29  Amount  284807 non-null  float64\n",
      " 30  Class   284807 non-null  int64  \n",
      "dtypes: float64(30), int64(1)\n",
      "memory usage: 67.4 MB\n"
     ]
    }
   ],
   "source": [
    "df.info()"
   ]
  },
  {
   "cell_type": "code",
   "execution_count": 5,
   "id": "029f2415",
   "metadata": {},
   "outputs": [
    {
     "name": "stdout",
     "output_type": "stream",
     "text": [
      "Data Contains 284807 credit cards, 31 Features.\n"
     ]
    }
   ],
   "source": [
    "print(f\"Data Contains {df.shape[0]} credit cards, {df.shape[1]} Features.\")"
   ]
  },
  {
   "cell_type": "code",
   "execution_count": 6,
   "id": "95d88799",
   "metadata": {},
   "outputs": [
    {
     "name": "stdout",
     "output_type": "stream",
     "text": [
      "Null Values: 0\n"
     ]
    }
   ],
   "source": [
    "print(\"Null Values:\", sum(df.isna().sum()))"
   ]
  },
  {
   "cell_type": "markdown",
   "id": "7ff3f987",
   "metadata": {},
   "source": [
    "#### Exploring Amount Over Time"
   ]
  },
  {
   "cell_type": "code",
   "execution_count": 7,
   "id": "372d158e",
   "metadata": {},
   "outputs": [
    {
     "data": {
      "image/png": "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",
      "text/plain": [
       "<Figure size 640x480 with 1 Axes>"
      ]
     },
     "metadata": {},
     "output_type": "display_data"
    }
   ],
   "source": [
    "sns.lineplot(data=df[:200], x='Time', y='Amount', hue='Class', ci=0)\n",
    "plt.show()"
   ]
  },
  {
   "cell_type": "markdown",
   "id": "1046fa06",
   "metadata": {},
   "source": [
    "#### Exploring Fraud & Not Fraud"
   ]
  },
  {
   "cell_type": "code",
   "execution_count": 8,
   "id": "492deb07",
   "metadata": {},
   "outputs": [
    {
     "name": "stdout",
     "output_type": "stream",
     "text": [
      "Class\n",
      "0    284315\n",
      "1       492\n",
      "Name: count, dtype: int64\n"
     ]
    },
    {
     "data": {
      "image/png": "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",
      "text/plain": [
       "<Figure size 640x480 with 1 Axes>"
      ]
     },
     "metadata": {},
     "output_type": "display_data"
    }
   ],
   "source": [
    "print(df['Class'].value_counts())\n",
    "plt.pie(df['Class'].value_counts(), labels=['Not Fraud', 'Fraud'], autopct='%1.1f%%', explode=(.1, .01))\n",
    "plt.show()"
   ]
  },
  {
   "cell_type": "markdown",
   "id": "43c3a2ff",
   "metadata": {},
   "source": [
    "**The dataset is highly unbalanced, the positive class (frauds) account for 0.172% of all transactions.**"
   ]
  },
  {
   "cell_type": "markdown",
   "id": "b7a3d262",
   "metadata": {},
   "source": [
    "# Feature Engineering"
   ]
  },
  {
   "cell_type": "markdown",
   "id": "4c5d3ee6",
   "metadata": {},
   "source": [
    "#### Scaling Data using Standardisation on [Amount, Time] "
   ]
  },
  {
   "cell_type": "code",
   "execution_count": 9,
   "id": "436a3442",
   "metadata": {},
   "outputs": [],
   "source": [
    "from sklearn.preprocessing import StandardScaler\n",
    "\n",
    "std_scaler = StandardScaler()\n",
    "df['Amount'] = std_scaler.fit_transform(df['Amount'].values.reshape(-1,1))\n",
    "df['Time'] = std_scaler.fit_transform(df['Time'].values.reshape(-1,1))"
   ]
  },
  {
   "cell_type": "markdown",
   "id": "b7f2807e",
   "metadata": {},
   "source": [
    "#### Building ML model [Logistic Regression]"
   ]
  },
  {
   "cell_type": "code",
   "execution_count": 10,
   "id": "b685f09b",
   "metadata": {},
   "outputs": [],
   "source": [
    "from imblearn.over_sampling import SMOTE, RandomOverSampler\n",
    "from imblearn.under_sampling import RandomUnderSampler\n",
    "\n",
    "\n",
    "from sklearn.linear_model import LogisticRegression\n",
    "from sklearn.model_selection import train_test_split\n",
    "from sklearn.metrics import confusion_matrix, ConfusionMatrixDisplay, classification_report"
   ]
  },
  {
   "cell_type": "code",
   "execution_count": 11,
   "id": "451a7de9",
   "metadata": {},
   "outputs": [
    {
     "name": "stdout",
     "output_type": "stream",
     "text": [
      "The Shape of dataset X = (284807, 30) y = (284807,)\n"
     ]
    }
   ],
   "source": [
    "X = df.drop('Class', axis=1)\n",
    "y = df['Class']\n",
    "print('The Shape of dataset X =',X.shape, 'y =',y.shape)"
   ]
  },
  {
   "cell_type": "markdown",
   "id": "81608481",
   "metadata": {},
   "source": [
    "#### Splitting the data into 95% train set and 5% test set"
   ]
  },
  {
   "cell_type": "code",
   "execution_count": 12,
   "id": "07389a31",
   "metadata": {},
   "outputs": [
    {
     "name": "stdout",
     "output_type": "stream",
     "text": [
      "              precision    recall  f1-score   support\n",
      "\n",
      "           0       1.00      1.00      1.00     14220\n",
      "           1       0.69      0.43      0.53        21\n",
      "\n",
      "    accuracy                           1.00     14241\n",
      "   macro avg       0.85      0.71      0.76     14241\n",
      "weighted avg       1.00      1.00      1.00     14241\n",
      "\n"
     ]
    }
   ],
   "source": [
    "x_train, x_test, y_train, y_test = train_test_split(X, y, test_size=0.05, random_state=42)\n",
    "\n",
    "lr = LogisticRegression().fit(x_train, y_train)\n",
    "y_pred = lr.predict(x_test)\n",
    "\n",
    "print(classification_report(y_test, y_pred))"
   ]
  },
  {
   "cell_type": "markdown",
   "id": "3bb3e1b0",
   "metadata": {},
   "source": [
    "#### Note\n",
    "It seems a very good model with accuracy about 100% but f1-score of fraud class accuracy is about 53% because the imbalanced data problem\n",
    "\n",
    "This is very bad model for detect fraud so let's treat with imbalanced data."
   ]
  },
  {
   "cell_type": "markdown",
   "id": "d76c4e25",
   "metadata": {},
   "source": [
    "### Handling Imbalanced data"
   ]
  },
  {
   "cell_type": "markdown",
   "id": "e8142439",
   "metadata": {},
   "source": [
    "#### Undersampling"
   ]
  },
  {
   "cell_type": "code",
   "execution_count": 13,
   "id": "ac929fbd",
   "metadata": {},
   "outputs": [
    {
     "data": {
      "text/plain": [
       "Class\n",
       "0    492\n",
       "1    492\n",
       "Name: count, dtype: int64"
      ]
     },
     "execution_count": 13,
     "metadata": {},
     "output_type": "execute_result"
    }
   ],
   "source": [
    "sm = RandomUnderSampler(random_state=42)\n",
    "x_res, y_res = sm.fit_resample(X, y)\n",
    "df_res = pd.concat([x_res, y_res])\n",
    "y_res.value_counts()"
   ]
  },
  {
   "cell_type": "code",
   "execution_count": 14,
   "id": "0d1b94b9",
   "metadata": {},
   "outputs": [
    {
     "name": "stdout",
     "output_type": "stream",
     "text": [
      "The Shape of test samples (50, 30) (50,)\n",
      "              precision    recall  f1-score   support\n",
      "\n",
      "           0       0.88      0.92      0.90        25\n",
      "           1       0.92      0.88      0.90        25\n",
      "\n",
      "    accuracy                           0.90        50\n",
      "   macro avg       0.90      0.90      0.90        50\n",
      "weighted avg       0.90      0.90      0.90        50\n",
      "\n"
     ]
    }
   ],
   "source": [
    "x_train, x_test, y_train, y_test = train_test_split(x_res, y_res, test_size=0.05, random_state=0, stratify=y_res)\n",
    "\n",
    "lr = LogisticRegression().fit(x_train, y_train)\n",
    "y_pred = lr.predict(x_test)\n",
    "\n",
    "print('The Shape of test samples',x_test.shape, y_test.shape)\n",
    "print(classification_report(y_test, y_pred))"
   ]
  },
  {
   "cell_type": "markdown",
   "id": "19f086dd",
   "metadata": {},
   "source": [
    "Getting better with this technique"
   ]
  },
  {
   "cell_type": "markdown",
   "id": "49b65231",
   "metadata": {},
   "source": [
    "#### Random Oversampling"
   ]
  },
  {
   "cell_type": "code",
   "execution_count": 15,
   "id": "54beb3dd",
   "metadata": {},
   "outputs": [
    {
     "data": {
      "text/plain": [
       "Class\n",
       "0    284315\n",
       "1    284315\n",
       "Name: count, dtype: int64"
      ]
     },
     "execution_count": 15,
     "metadata": {},
     "output_type": "execute_result"
    }
   ],
   "source": [
    "ros = RandomOverSampler(random_state=42)\n",
    "x_res, y_res = ros.fit_resample(X, y)\n",
    "df_res = pd.concat([x_res, y_res])\n",
    "y_res.value_counts()"
   ]
  },
  {
   "cell_type": "code",
   "execution_count": 16,
   "id": "10fa82f1",
   "metadata": {},
   "outputs": [
    {
     "name": "stdout",
     "output_type": "stream",
     "text": [
      "The Shape of test samples (28432, 30) (28432,)\n",
      "              precision    recall  f1-score   support\n",
      "\n",
      "           0       0.93      0.98      0.95     14216\n",
      "           1       0.98      0.92      0.95     14216\n",
      "\n",
      "    accuracy                           0.95     28432\n",
      "   macro avg       0.95      0.95      0.95     28432\n",
      "weighted avg       0.95      0.95      0.95     28432\n",
      "\n"
     ]
    }
   ],
   "source": [
    "x_train, x_test, y_train, y_test = train_test_split(x_res, y_res, test_size=0.05, random_state=42, stratify=y_res)\n",
    "\n",
    "lr = LogisticRegression().fit(x_train, y_train)\n",
    "y_pred = lr.predict(x_test)\n",
    "\n",
    "print('The Shape of test samples',x_test.shape, y_test.shape)\n",
    "print(classification_report(y_test, y_pred))"
   ]
  },
  {
   "cell_type": "markdown",
   "id": "5ae83722",
   "metadata": {},
   "source": [
    "Getting better with this technique"
   ]
  },
  {
   "cell_type": "markdown",
   "id": "2aa2bf9b",
   "metadata": {},
   "source": [
    "#### SMOTE"
   ]
  },
  {
   "cell_type": "code",
   "execution_count": 17,
   "id": "ac35b3fa",
   "metadata": {},
   "outputs": [
    {
     "data": {
      "text/plain": [
       "Class\n",
       "0    284315\n",
       "1    284315\n",
       "Name: count, dtype: int64"
      ]
     },
     "execution_count": 17,
     "metadata": {},
     "output_type": "execute_result"
    }
   ],
   "source": [
    "sm = SMOTE(random_state=42)\n",
    "x_res, y_res = sm.fit_resample(X, y)\n",
    "df_res = pd.concat([x_res, y_res])\n",
    "y_res.value_counts()"
   ]
  },
  {
   "cell_type": "code",
   "execution_count": 18,
   "id": "ef3f2e0f",
   "metadata": {},
   "outputs": [
    {
     "name": "stdout",
     "output_type": "stream",
     "text": [
      "The Shape of test samples\n",
      "(28432, 30) (28432,)\n"
     ]
    }
   ],
   "source": [
    "x_train, x_test, y_train, y_test = train_test_split(x_res, y_res, test_size=0.05, random_state=0, stratify=y_res)\n",
    "\n",
    "lr = LogisticRegression().fit(x_train, y_train)\n",
    "\n",
    "print('The Shape of test samples')\n",
    "print(x_test.shape, y_test.shape)"
   ]
  },
  {
   "cell_type": "code",
   "execution_count": 19,
   "id": "8fc684fa",
   "metadata": {},
   "outputs": [
    {
     "name": "stdout",
     "output_type": "stream",
     "text": [
      "              precision    recall  f1-score   support\n",
      "\n",
      "           0       0.92      0.98      0.95     14216\n",
      "           1       0.97      0.92      0.94     14216\n",
      "\n",
      "    accuracy                           0.95     28432\n",
      "   macro avg       0.95      0.95      0.95     28432\n",
      "weighted avg       0.95      0.95      0.95     28432\n",
      "\n"
     ]
    }
   ],
   "source": [
    "y_pred = lr.predict(x_test)\n",
    "print(classification_report(y_test, y_pred))"
   ]
  },
  {
   "cell_type": "markdown",
   "id": "8202eff9",
   "metadata": {},
   "source": [
    "Getting better with this technique\n",
    "\n",
    "**We will use this method..**"
   ]
  },
  {
   "cell_type": "markdown",
   "id": "6740f991",
   "metadata": {},
   "source": [
    "### Building Neural Networks with TensorFlow"
   ]
  },
  {
   "cell_type": "code",
   "execution_count": 20,
   "id": "3947fb9b",
   "metadata": {},
   "outputs": [],
   "source": [
    "import tensorflow\n",
    "from tensorflow.keras.models import Sequential\n",
    "from tensorflow.keras.layers import Activation\n",
    "from tensorflow.keras.layers import Dense\n",
    "from tensorflow.keras.optimizers import Adam\n",
    "from tensorflow.keras.metrics import categorical_crossentropy"
   ]
  },
  {
   "cell_type": "code",
   "execution_count": 21,
   "id": "435596e5",
   "metadata": {},
   "outputs": [
    {
     "name": "stdout",
     "output_type": "stream",
     "text": [
      "Model: \"sequential\"\n",
      "_________________________________________________________________\n",
      " Layer (type)                Output Shape              Param #   \n",
      "=================================================================\n",
      " dense (Dense)               (None, 32)                992       \n",
      "                                                                 \n",
      " dense_1 (Dense)             (None, 16)                528       \n",
      "                                                                 \n",
      " dense_2 (Dense)             (None, 2)                 34        \n",
      "                                                                 \n",
      "=================================================================\n",
      "Total params: 1554 (6.07 KB)\n",
      "Trainable params: 1554 (6.07 KB)\n",
      "Non-trainable params: 0 (0.00 Byte)\n",
      "_________________________________________________________________\n"
     ]
    }
   ],
   "source": [
    "NN = Sequential([\n",
    "    Dense(32, input_shape=(30, ), activation='relu'),\n",
    "    Dense(16, activation='relu'),\n",
    "    Dense(2, activation='softmax')\n",
    "])\n",
    "\n",
    "NN.summary()"
   ]
  },
  {
   "cell_type": "code",
   "execution_count": 22,
   "id": "1ae7b36f",
   "metadata": {},
   "outputs": [],
   "source": [
    "NN.compile(Adam(learning_rate=0.001), loss='sparse_categorical_crossentropy', metrics=['accuracy'])"
   ]
  },
  {
   "cell_type": "code",
   "execution_count": 23,
   "id": "45c32e29",
   "metadata": {},
   "outputs": [
    {
     "name": "stdout",
     "output_type": "stream",
     "text": [
      "Epoch 1/25\n",
      "3377/3377 [==============================] - 7s 2ms/step - loss: 0.0659 - accuracy: 0.9769 - val_loss: 0.0159 - val_accuracy: 0.9958\n",
      "Epoch 2/25\n",
      "3377/3377 [==============================] - 6s 2ms/step - loss: 0.0100 - accuracy: 0.9977 - val_loss: 0.0071 - val_accuracy: 0.9985\n",
      "Epoch 3/25\n",
      "3377/3377 [==============================] - 6s 2ms/step - loss: 0.0057 - accuracy: 0.9988 - val_loss: 0.0050 - val_accuracy: 0.9990\n",
      "Epoch 4/25\n",
      "3377/3377 [==============================] - 7s 2ms/step - loss: 0.0042 - accuracy: 0.9991 - val_loss: 0.0040 - val_accuracy: 0.9992\n",
      "Epoch 5/25\n",
      "3377/3377 [==============================] - 7s 2ms/step - loss: 0.0035 - accuracy: 0.9993 - val_loss: 0.0041 - val_accuracy: 0.9991\n",
      "Epoch 6/25\n",
      "3377/3377 [==============================] - 6s 2ms/step - loss: 0.0030 - accuracy: 0.9994 - val_loss: 0.0036 - val_accuracy: 0.9992\n",
      "Epoch 7/25\n",
      "3377/3377 [==============================] - 7s 2ms/step - loss: 0.0028 - accuracy: 0.9994 - val_loss: 0.0033 - val_accuracy: 0.9996\n",
      "Epoch 8/25\n",
      "3377/3377 [==============================] - 6s 2ms/step - loss: 0.0024 - accuracy: 0.9995 - val_loss: 0.0038 - val_accuracy: 0.9991\n",
      "Epoch 9/25\n",
      "3377/3377 [==============================] - 6s 2ms/step - loss: 0.0022 - accuracy: 0.9995 - val_loss: 0.0027 - val_accuracy: 0.9994\n",
      "Epoch 10/25\n",
      "3377/3377 [==============================] - 6s 2ms/step - loss: 0.0021 - accuracy: 0.9995 - val_loss: 0.0034 - val_accuracy: 0.9992\n",
      "Epoch 11/25\n",
      "3377/3377 [==============================] - 6s 2ms/step - loss: 0.0017 - accuracy: 0.9996 - val_loss: 0.0023 - val_accuracy: 0.9995\n",
      "Epoch 12/25\n",
      "3377/3377 [==============================] - 6s 2ms/step - loss: 0.0017 - accuracy: 0.9996 - val_loss: 0.0031 - val_accuracy: 0.9993\n",
      "Epoch 13/25\n",
      "3377/3377 [==============================] - 7s 2ms/step - loss: 0.0015 - accuracy: 0.9997 - val_loss: 0.0025 - val_accuracy: 0.9996\n",
      "Epoch 14/25\n",
      "3377/3377 [==============================] - 6s 2ms/step - loss: 0.0017 - accuracy: 0.9996 - val_loss: 0.0029 - val_accuracy: 0.9994\n",
      "Epoch 15/25\n",
      "3377/3377 [==============================] - 6s 2ms/step - loss: 0.0013 - accuracy: 0.9997 - val_loss: 0.0025 - val_accuracy: 0.9995\n",
      "Epoch 16/25\n",
      "3377/3377 [==============================] - 6s 2ms/step - loss: 0.0013 - accuracy: 0.9996 - val_loss: 0.0025 - val_accuracy: 0.9996\n",
      "Epoch 17/25\n",
      "3377/3377 [==============================] - 6s 2ms/step - loss: 0.0012 - accuracy: 0.9997 - val_loss: 0.0027 - val_accuracy: 0.9994\n",
      "Epoch 18/25\n",
      "3377/3377 [==============================] - 6s 2ms/step - loss: 0.0013 - accuracy: 0.9997 - val_loss: 0.0019 - val_accuracy: 0.9996\n",
      "Epoch 19/25\n",
      "3377/3377 [==============================] - 6s 2ms/step - loss: 0.0011 - accuracy: 0.9997 - val_loss: 0.0022 - val_accuracy: 0.9996\n",
      "Epoch 20/25\n",
      "3377/3377 [==============================] - 6s 2ms/step - loss: 0.0012 - accuracy: 0.9997 - val_loss: 0.0028 - val_accuracy: 0.9995\n",
      "Epoch 21/25\n",
      "3377/3377 [==============================] - 6s 2ms/step - loss: 0.0013 - accuracy: 0.9997 - val_loss: 0.0020 - val_accuracy: 0.9997\n",
      "Epoch 22/25\n",
      "3377/3377 [==============================] - 6s 2ms/step - loss: 0.0010 - accuracy: 0.9998 - val_loss: 0.0025 - val_accuracy: 0.9996\n",
      "Epoch 23/25\n",
      "3377/3377 [==============================] - 7s 2ms/step - loss: 0.0011 - accuracy: 0.9998 - val_loss: 0.0021 - val_accuracy: 0.9997\n",
      "Epoch 24/25\n",
      "3377/3377 [==============================] - 6s 2ms/step - loss: 0.0010 - accuracy: 0.9998 - val_loss: 0.0023 - val_accuracy: 0.9996\n",
      "Epoch 25/25\n",
      "3377/3377 [==============================] - 6s 2ms/step - loss: 0.0010 - accuracy: 0.9998 - val_loss: 0.0027 - val_accuracy: 0.9995\n"
     ]
    },
    {
     "data": {
      "text/plain": [
       "<keras.src.callbacks.History at 0x2006776d450>"
      ]
     },
     "execution_count": 23,
     "metadata": {},
     "output_type": "execute_result"
    }
   ],
   "source": [
    "NN.fit(x_train, y_train, validation_split=0.2, batch_size=128, epochs=25, shuffle=True)"
   ]
  },
  {
   "cell_type": "code",
   "execution_count": 24,
   "id": "b39ccab0",
   "metadata": {},
   "outputs": [
    {
     "name": "stdout",
     "output_type": "stream",
     "text": [
      "889/889 [==============================] - 1s 1ms/step\n",
      "              precision    recall  f1-score   support\n",
      "\n",
      "           0       1.00      1.00      1.00     14216\n",
      "           1       1.00      1.00      1.00     14216\n",
      "\n",
      "    accuracy                           1.00     28432\n",
      "   macro avg       1.00      1.00      1.00     28432\n",
      "weighted avg       1.00      1.00      1.00     28432\n",
      "\n"
     ]
    }
   ],
   "source": [
    "NN_pred = np.argmax(NN.predict(x_test), axis=1)\n",
    "print(classification_report(y_test, NN_pred))"
   ]
  },
  {
   "cell_type": "code",
   "execution_count": 25,
   "id": "e13d1c1f",
   "metadata": {},
   "outputs": [
    {
     "data": {
      "image/png": "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",
      "text/plain": [
       "<Figure size 640x480 with 2 Axes>"
      ]
     },
     "metadata": {},
     "output_type": "display_data"
    }
   ],
   "source": [
    "cm = confusion_matrix(y_test, NN_pred)\n",
    "disp = ConfusionMatrixDisplay(confusion_matrix=cm)\n",
    "disp.plot()\n",
    "plt.show()"
   ]
  },
  {
   "cell_type": "markdown",
   "id": "2cc9e79b",
   "metadata": {},
   "source": [
    "### This is a very good model with accuracy about 100%"
   ]
  }
 ],
 "metadata": {
  "kernelspec": {
   "display_name": "Python 3 (ipykernel)",
   "language": "python",
   "name": "python3"
  },
  "language_info": {
   "codemirror_mode": {
    "name": "ipython",
    "version": 3
   },
   "file_extension": ".py",
   "mimetype": "text/x-python",
   "name": "python",
   "nbconvert_exporter": "python",
   "pygments_lexer": "ipython3",
   "version": "3.11.5"
  }
 },
 "nbformat": 4,
 "nbformat_minor": 5
}
