{
 "cells": [
  {
   "cell_type": "markdown",
   "id": "6388d9f0",
   "metadata": {},
   "source": [
    "# TASK 5"
   ]
  },
  {
   "cell_type": "markdown",
   "id": "ea65b92f",
   "metadata": {},
   "source": [
    "## About Dataset"
   ]
  },
  {
   "cell_type": "markdown",
   "id": "fd62949f",
   "metadata": {},
   "source": [
    "## Credit Fraud Detector\n",
    "**Note: There are still aspects of this kernel that will be subjected to changes. I've noticed a recent increase of interest towards this kernel so I will focus more on the steps I took and why I took them to make it clear why I took those steps.**\n",
    "\n",
    "**Context**\n",
    "\n",
    "It is important that credit card companies are able to recognize fraudulent credit card transactions so that customers are not charged for items that they did not purchase.\n",
    "\n",
    "**Content**\n",
    "\n",
    "The dataset contains transactions made by credit cards in September 2013 by European cardholders.\n",
    "This dataset presents transactions that occurred in two days, where we have 492 frauds out of 284,807 transactions. The dataset is highly unbalanced, the positive class (frauds) account for 0.172% of all transactions.\n",
    "\n",
    "It contains only numerical input variables which are the result of a PCA transformation. Unfortunately, due to confidentiality issues, we cannot provide the original features and more background information about the data. Features V1, V2, … V28 are the principal components obtained with PCA, the only features which have not been transformed with PCA are 'Time' and 'Amount'. Feature 'Time' contains the seconds elapsed between each transaction and the first transaction in the dataset. The feature 'Amount' is the transaction Amount, this feature can be used for example-dependant cost-sensitive learning. Feature 'Class' is the response variable and it takes value 1 in case of fraud and 0 otherwise.\n",
    "\n",
    "Dataset on Kaggle: https://www.kaggle.com/datasets/mlg-ulb/creditcardfraud"
   ]
  },
  {
   "cell_type": "code",
   "execution_count": 1,
   "id": "17c99539",
   "metadata": {},
   "outputs": [],
   "source": [
    "# !pip install imbalanced-learn"
   ]
  },
  {
   "cell_type": "markdown",
   "id": "cff50bbb",
   "metadata": {},
   "source": [
    "# DATA EXPLORING"
   ]
  },
  {
   "cell_type": "markdown",
   "id": "4b152f47",
   "metadata": {},
   "source": [
    "#### Importing Libraries"
   ]
  },
  {
   "cell_type": "code",
   "execution_count": 2,
   "id": "ac90fc2b",
   "metadata": {},
   "outputs": [],
   "source": [
    "import numpy as np\n",
    "import pandas as pd\n",
    "import matplotlib.pyplot as plt\n",
    "import seaborn as sns\n",
    "import warnings\n",
    "warnings.filterwarnings(\"ignore\")"
   ]
  },
  {
   "cell_type": "markdown",
   "id": "e9ce5ce4",
   "metadata": {},
   "source": [
    "#### Import dataset"
   ]
  },
  {
   "cell_type": "code",
   "execution_count": 3,
   "id": "7402cfd0",
   "metadata": {
    "scrolled": true
   },
   "outputs": [
    {
     "data": {
      "text/html": [
       "<div>\n",
       "<style scoped>\n",
       "    .dataframe tbody tr th:only-of-type {\n",
       "        vertical-align: middle;\n",
       "    }\n",
       "\n",
       "    .dataframe tbody tr th {\n",
       "        vertical-align: top;\n",
       "    }\n",
       "\n",
       "    .dataframe thead th {\n",
       "        text-align: right;\n",
       "    }\n",
       "</style>\n",
       "<table border=\"1\" class=\"dataframe\">\n",
       "  <thead>\n",
       "    <tr style=\"text-align: right;\">\n",
       "      <th></th>\n",
       "      <th>Time</th>\n",
       "      <th>V1</th>\n",
       "      <th>V2</th>\n",
       "      <th>V3</th>\n",
       "      <th>V4</th>\n",
       "      <th>V5</th>\n",
       "      <th>V6</th>\n",
       "      <th>V7</th>\n",
       "      <th>V8</th>\n",
       "      <th>V9</th>\n",
       "      <th>...</th>\n",
       "      <th>V21</th>\n",
       "      <th>V22</th>\n",
       "      <th>V23</th>\n",
       "      <th>V24</th>\n",
       "      <th>V25</th>\n",
       "      <th>V26</th>\n",
       "      <th>V27</th>\n",
       "      <th>V28</th>\n",
       "      <th>Amount</th>\n",
       "      <th>Class</th>\n",
       "    </tr>\n",
       "  </thead>\n",
       "  <tbody>\n",
       "    <tr>\n",
       "      <th>0</th>\n",
       "      <td>0.0</td>\n",
       "      <td>-1.359807</td>\n",
       "      <td>-0.072781</td>\n",
       "      <td>2.536347</td>\n",
       "      <td>1.378155</td>\n",
       "      <td>-0.338321</td>\n",
       "      <td>0.462388</td>\n",
       "      <td>0.239599</td>\n",
       "      <td>0.098698</td>\n",
       "      <td>0.363787</td>\n",
       "      <td>...</td>\n",
       "      <td>-0.018307</td>\n",
       "      <td>0.277838</td>\n",
       "      <td>-0.110474</td>\n",
       "      <td>0.066928</td>\n",
       "      <td>0.128539</td>\n",
       "      <td>-0.189115</td>\n",
       "      <td>0.133558</td>\n",
       "      <td>-0.021053</td>\n",
       "      <td>149.62</td>\n",
       "      <td>0</td>\n",
       "    </tr>\n",
       "    <tr>\n",
       "      <th>1</th>\n",
       "      <td>0.0</td>\n",
       "      <td>1.191857</td>\n",
       "      <td>0.266151</td>\n",
       "      <td>0.166480</td>\n",
       "      <td>0.448154</td>\n",
       "      <td>0.060018</td>\n",
       "      <td>-0.082361</td>\n",
       "      <td>-0.078803</td>\n",
       "      <td>0.085102</td>\n",
       "      <td>-0.255425</td>\n",
       "      <td>...</td>\n",
       "      <td>-0.225775</td>\n",
       "      <td>-0.638672</td>\n",
       "      <td>0.101288</td>\n",
       "      <td>-0.339846</td>\n",
       "      <td>0.167170</td>\n",
       "      <td>0.125895</td>\n",
       "      <td>-0.008983</td>\n",
       "      <td>0.014724</td>\n",
       "      <td>2.69</td>\n",
       "      <td>0</td>\n",
       "    </tr>\n",
       "    <tr>\n",
       "      <th>2</th>\n",
       "      <td>1.0</td>\n",
       "      <td>-1.358354</td>\n",
       "      <td>-1.340163</td>\n",
       "      <td>1.773209</td>\n",
       "      <td>0.379780</td>\n",
       "      <td>-0.503198</td>\n",
       "      <td>1.800499</td>\n",
       "      <td>0.791461</td>\n",
       "      <td>0.247676</td>\n",
       "      <td>-1.514654</td>\n",
       "      <td>...</td>\n",
       "      <td>0.247998</td>\n",
       "      <td>0.771679</td>\n",
       "      <td>0.909412</td>\n",
       "      <td>-0.689281</td>\n",
       "      <td>-0.327642</td>\n",
       "      <td>-0.139097</td>\n",
       "      <td>-0.055353</td>\n",
       "      <td>-0.059752</td>\n",
       "      <td>378.66</td>\n",
       "      <td>0</td>\n",
       "    </tr>\n",
       "    <tr>\n",
       "      <th>3</th>\n",
       "      <td>1.0</td>\n",
       "      <td>-0.966272</td>\n",
       "      <td>-0.185226</td>\n",
       "      <td>1.792993</td>\n",
       "      <td>-0.863291</td>\n",
       "      <td>-0.010309</td>\n",
       "      <td>1.247203</td>\n",
       "      <td>0.237609</td>\n",
       "      <td>0.377436</td>\n",
       "      <td>-1.387024</td>\n",
       "      <td>...</td>\n",
       "      <td>-0.108300</td>\n",
       "      <td>0.005274</td>\n",
       "      <td>-0.190321</td>\n",
       "      <td>-1.175575</td>\n",
       "      <td>0.647376</td>\n",
       "      <td>-0.221929</td>\n",
       "      <td>0.062723</td>\n",
       "      <td>0.061458</td>\n",
       "      <td>123.50</td>\n",
       "      <td>0</td>\n",
       "    </tr>\n",
       "    <tr>\n",
       "      <th>4</th>\n",
       "      <td>2.0</td>\n",
       "      <td>-1.158233</td>\n",
       "      <td>0.877737</td>\n",
       "      <td>1.548718</td>\n",
       "      <td>0.403034</td>\n",
       "      <td>-0.407193</td>\n",
       "      <td>0.095921</td>\n",
       "      <td>0.592941</td>\n",
       "      <td>-0.270533</td>\n",
       "      <td>0.817739</td>\n",
       "      <td>...</td>\n",
       "      <td>-0.009431</td>\n",
       "      <td>0.798278</td>\n",
       "      <td>-0.137458</td>\n",
       "      <td>0.141267</td>\n",
       "      <td>-0.206010</td>\n",
       "      <td>0.502292</td>\n",
       "      <td>0.219422</td>\n",
       "      <td>0.215153</td>\n",
       "      <td>69.99</td>\n",
       "      <td>0</td>\n",
       "    </tr>\n",
       "  </tbody>\n",
       "</table>\n",
       "<p>5 rows × 31 columns</p>\n",
       "</div>"
      ],
      "text/plain": [
       "   Time        V1        V2        V3        V4        V5        V6        V7  \\\n",
       "0   0.0 -1.359807 -0.072781  2.536347  1.378155 -0.338321  0.462388  0.239599   \n",
       "1   0.0  1.191857  0.266151  0.166480  0.448154  0.060018 -0.082361 -0.078803   \n",
       "2   1.0 -1.358354 -1.340163  1.773209  0.379780 -0.503198  1.800499  0.791461   \n",
       "3   1.0 -0.966272 -0.185226  1.792993 -0.863291 -0.010309  1.247203  0.237609   \n",
       "4   2.0 -1.158233  0.877737  1.548718  0.403034 -0.407193  0.095921  0.592941   \n",
       "\n",
       "         V8        V9  ...       V21       V22       V23       V24       V25  \\\n",
       "0  0.098698  0.363787  ... -0.018307  0.277838 -0.110474  0.066928  0.128539   \n",
       "1  0.085102 -0.255425  ... -0.225775 -0.638672  0.101288 -0.339846  0.167170   \n",
       "2  0.247676 -1.514654  ...  0.247998  0.771679  0.909412 -0.689281 -0.327642   \n",
       "3  0.377436 -1.387024  ... -0.108300  0.005274 -0.190321 -1.175575  0.647376   \n",
       "4 -0.270533  0.817739  ... -0.009431  0.798278 -0.137458  0.141267 -0.206010   \n",
       "\n",
       "        V26       V27       V28  Amount  Class  \n",
       "0 -0.189115  0.133558 -0.021053  149.62      0  \n",
       "1  0.125895 -0.008983  0.014724    2.69      0  \n",
       "2 -0.139097 -0.055353 -0.059752  378.66      0  \n",
       "3 -0.221929  0.062723  0.061458  123.50      0  \n",
       "4  0.502292  0.219422  0.215153   69.99      0  \n",
       "\n",
       "[5 rows x 31 columns]"
      ]
     },
     "execution_count": 3,
     "metadata": {},
     "output_type": "execute_result"
    }
   ],
   "source": [
    "path = 'creditcard.csv'\n",
    "df = pd.read_csv(path)\n",
    "df.head()"
   ]
  },
  {
   "cell_type": "code",
   "execution_count": 4,
   "id": "4ec54a39",
   "metadata": {},
   "outputs": [
    {
     "name": "stdout",
     "output_type": "stream",
     "text": [
      "<class 'pandas.core.frame.DataFrame'>\n",
      "RangeIndex: 284807 entries, 0 to 284806\n",
      "Data columns (total 31 columns):\n",
      " #   Column  Non-Null Count   Dtype  \n",
      "---  ------  --------------   -----  \n",
      " 0   Time    284807 non-null  float64\n",
      " 1   V1      284807 non-null  float64\n",
      " 2   V2      284807 non-null  float64\n",
      " 3   V3      284807 non-null  float64\n",
      " 4   V4      284807 non-null  float64\n",
      " 5   V5      284807 non-null  float64\n",
      " 6   V6      284807 non-null  float64\n",
      " 7   V7      284807 non-null  float64\n",
      " 8   V8      284807 non-null  float64\n",
      " 9   V9      284807 non-null  float64\n",
      " 10  V10     284807 non-null  float64\n",
      " 11  V11     284807 non-null  float64\n",
      " 12  V12     284807 non-null  float64\n",
      " 13  V13     284807 non-null  float64\n",
      " 14  V14     284807 non-null  float64\n",
      " 15  V15     284807 non-null  float64\n",
      " 16  V16     284807 non-null  float64\n",
      " 17  V17     284807 non-null  float64\n",
      " 18  V18     284807 non-null  float64\n",
      " 19  V19     284807 non-null  float64\n",
      " 20  V20     284807 non-null  float64\n",
      " 21  V21     284807 non-null  float64\n",
      " 22  V22     284807 non-null  float64\n",
      " 23  V23     284807 non-null  float64\n",
      " 24  V24     284807 non-null  float64\n",
      " 25  V25     284807 non-null  float64\n",
      " 26  V26     284807 non-null  float64\n",
      " 27  V27     284807 non-null  float64\n",
      " 28  V28     284807 non-null  float64\n",
      " 29  Amount  284807 non-null  float64\n",
      " 30  Class   284807 non-null  int64  \n",
      "dtypes: float64(30), int64(1)\n",
      "memory usage: 67.4 MB\n"
     ]
    }
   ],
   "source": [
    "df.info()"
   ]
  },
  {
   "cell_type": "code",
   "execution_count": 5,
   "id": "029f2415",
   "metadata": {},
   "outputs": [
    {
     "name": "stdout",
     "output_type": "stream",
     "text": [
      "Data Contains 284807 credit cards, 31 Features.\n"
     ]
    }
   ],
   "source": [
    "print(f\"Data Contains {df.shape[0]} credit cards, {df.shape[1]} Features.\")"
   ]
  },
  {
   "cell_type": "code",
   "execution_count": 6,
   "id": "95d88799",
   "metadata": {},
   "outputs": [
    {
     "name": "stdout",
     "output_type": "stream",
     "text": [
      "Null Values: 0\n"
     ]
    }
   ],
   "source": [
    "print(\"Null Values:\", sum(df.isna().sum()))"
   ]
  },
  {
   "cell_type": "markdown",
   "id": "7ff3f987",
   "metadata": {},
   "source": [
    "#### Exploring Amount Over Time"
   ]
  },
  {
   "cell_type": "code",
   "execution_count": 7,
   "id": "372d158e",
   "metadata": {},
   "outputs": [
    {
     "data": {
      "image/png": "[encoded data removed]",
      "text/plain": [
       "<Figure size 640x480 with 1 Axes>"
      ]
     },
     "metadata": {},
     "output_type": "display_data"
    }
   ],
   "source": [
    "sns.lineplot(data=df[:200], x='Time', y='Amount', hue='Class', ci=0)\n",
    "plt.show()"
   ]
  },
  {
   "cell_type": "markdown",
   "id": "1046fa06",
   "metadata": {},
   "source": [
    "#### Exploring Fraud & Not Fraud"
   ]
  },
  {
   "cell_type": "code",
   "execution_count": 8,
   "id": "492deb07",
   "metadata": {},
   "outputs": [
    {
     "name": "stdout",
     "output_type": "stream",
     "text": [
      "Class\n",
      "0    284315\n",
      "1       492\n",
      "Name: count, dtype: int64\n"
     ]
    },
    {
     "data": {
      "image/png": "[encoded data removed]",
      "text/plain": [
       "<Figure size 640x480 with 1 Axes>"
      ]
     },
     "metadata": {},
     "output_type": "display_data"
    }
   ],
   "source": [
    "print(df['Class'].value_counts())\n",
    "plt.pie(df['Class'].value_counts(), labels=['Not Fraud', 'Fraud'], autopct='%1.1f%%', explode=(.1, .01))\n",
    "plt.show()"
   ]
  },
  {
   "cell_type": "markdown",
   "id": "43c3a2ff",
   "metadata": {},
   "source": [
    "**The dataset is highly unbalanced, the positive class (frauds) account for 0.172% of all transactions.**"
   ]
  },
  {
   "cell_type": "markdown",
   "id": "b7a3d262",
   "metadata": {},
   "source": [
    "# Feature Engineering"
   ]
  },
  {
   "cell_type": "markdown",
   "id": "4c5d3ee6",
   "metadata": {},
   "source": [
    "#### Scaling Data using Standardisation on [Amount, Time] "
   ]
  },
  {
   "cell_type": "code",
   "execution_count": 9,
   "id": "436a3442",
   "metadata": {},
   "outputs": [],
   "source": [
    "from sklearn.preprocessing import StandardScaler\n",
    "\n",
    "std_scaler = StandardScaler()\n",
    "df['Amount'] = std_scaler.fit_transform(df['Amount'].values.reshape(-1,1))\n",
    "df['Time'] = std_scaler.fit_transform(df['Time'].values.reshape(-1,1))"
   ]
  },
  {
   "cell_type": "markdown",
   "id": "b7f2807e",
   "metadata": {},
   "source": [
    "#### Building ML model [Logistic Regression]"
   ]
  },
  {
   "cell_type": "code",
   "execution_count": 10,
   "id": "b685f09b",
   "metadata": {},
   "outputs": [],
   "source": [
    "from imblearn.over_sampling import SMOTE, RandomOverSampler\n",
    "from imblearn.under_sampling import RandomUnderSampler\n",
    "\n",
    "\n",
    "from sklearn.linear_model import LogisticRegression\n",
    "from sklearn.model_selection import train_test_split\n",
    "from sklearn.metrics import confusion_matrix, ConfusionMatrixDisplay, classification_report"
   ]
  },
  {
   "cell_type": "code",
   "execution_count": 11,
   "id": "451a7de9",
   "metadata": {},
   "outputs": [
    {
     "name": "stdout",
     "output_type": "stream",
     "text": [
      "The Shape of dataset X = (284807, 30) y = (284807,)\n"
     ]
    }
   ],
   "source": [
    "X = df.drop('Class', axis=1)\n",
    "y = df['Class']\n",
    "print('The Shape of dataset X =',X.shape, 'y =',y.shape)"
   ]
  },
  {
   "cell_type": "markdown",
   "id": "81608481",
   "metadata": {},
   "source": [
    "#### Splitting the data into 95% train set and 5% test set"
   ]
  },
  {
   "cell_type": "code",
   "execution_count": 12,
   "id": "07389a31",
   "metadata": {},
   "outputs": [],
   "source": [
    "x_train, x_test, y_train, y_test = train_test_split(X, y, test_size=0.05, random_state=42)"
   ]
  },
  {
   "cell_type": "markdown",
   "id": "1a72bfb2",
   "metadata": {},
   "source": [
    "#### Build Base Model (Logistic Regression)"
   ]
  },
  {
   "cell_type": "code",
   "execution_count": 13,
   "id": "aeea8ac2",
   "metadata": {},
   "outputs": [
    {
     "name": "stdout",
     "output_type": "stream",
     "text": [
      "              precision    recall  f1-score   support\n",
      "\n",
      "           0       1.00      1.00      1.00     14220\n",
      "           1       0.69      0.43      0.53        21\n",
      "\n",
      "    accuracy                           1.00     14241\n",
      "   macro avg       0.85      0.71      0.76     14241\n",
      "weighted avg       1.00      1.00      1.00     14241\n",
      "\n"
     ]
    }
   ],
   "source": [
    "lr = LogisticRegression().fit(x_train, y_train)\n",
    "y_pred = lr.predict(x_test)\n",
    "\n",
    "print(classification_report(y_test, y_pred))"
   ]
  },
  {
   "cell_type": "markdown",
   "id": "3bb3e1b0",
   "metadata": {},
   "source": [
    "#### Note\n",
    "It seems a very good model with accuracy about 100% but f1-score of fraud class accuracy is about 53% because the imbalanced data problem\n",
    "\n",
    "This is very bad model for detect fraud so let's treat with imbalanced data."
   ]
  },
  {
   "cell_type": "markdown",
   "id": "bbc889c9",
   "metadata": {},
   "source": [
    "#### Split Data to train and test dataset before Handling Imbalanced data \n",
    "**[To Evaluate Model On Unseen Data]**"
   ]
  },
  {
   "cell_type": "code",
   "execution_count": 14,
   "id": "d89fe625",
   "metadata": {},
   "outputs": [
    {
     "name": "stdout",
     "output_type": "stream",
     "text": [
      "Shape of test sample (2849, 30)\n"
     ]
    },
    {
     "data": {
      "text/plain": [
       "Class\n",
       "0    2845\n",
       "1       4\n",
       "Name: count, dtype: int64"
      ]
     },
     "execution_count": 14,
     "metadata": {},
     "output_type": "execute_result"
    }
   ],
   "source": [
    "X1, x_test_final, y1, y_test_final = train_test_split(X, y, test_size=0.01, random_state=45)\n",
    "print('Shape of test sample', x_test_final.shape)\n",
    "y_test_final.value_counts()"
   ]
  },
  {
   "cell_type": "markdown",
   "id": "d76c4e25",
   "metadata": {},
   "source": [
    "### Handling Imbalanced data"
   ]
  },
  {
   "cell_type": "markdown",
   "id": "2aa2bf9b",
   "metadata": {},
   "source": [
    "#### SMOTE"
   ]
  },
  {
   "cell_type": "code",
   "execution_count": 15,
   "id": "ac35b3fa",
   "metadata": {},
   "outputs": [
    {
     "data": {
      "text/plain": [
       "Class\n",
       "0    284315\n",
       "1    284315\n",
       "Name: count, dtype: int64"
      ]
     },
     "execution_count": 15,
     "metadata": {},
     "output_type": "execute_result"
    }
   ],
   "source": [
    "sm = SMOTE(random_state=42)\n",
    "x_res, y_res = sm.fit_resample(X, y)\n",
    "df_res = pd.concat([x_res, y_res])\n",
    "y_res.value_counts()"
   ]
  },
  {
   "cell_type": "code",
   "execution_count": 16,
   "id": "ef3f2e0f",
   "metadata": {},
   "outputs": [
    {
     "name": "stdout",
     "output_type": "stream",
     "text": [
      "The Shape of test samples\n",
      "(28432, 30) (28432,)\n"
     ]
    }
   ],
   "source": [
    "x_train, x_test, y_train, y_test = train_test_split(x_res, y_res, test_size=0.05, random_state=42, stratify=y_res)\n",
    "\n",
    "lr = LogisticRegression().fit(x_train, y_train)\n",
    "\n",
    "print('The Shape of test samples')\n",
    "print(x_test.shape, y_test.shape)"
   ]
  },
  {
   "cell_type": "code",
   "execution_count": 17,
   "id": "8fc684fa",
   "metadata": {},
   "outputs": [
    {
     "name": "stdout",
     "output_type": "stream",
     "text": [
      "              precision    recall  f1-score   support\n",
      "\n",
      "           0       0.93      0.97      0.95     14216\n",
      "           1       0.97      0.92      0.95     14216\n",
      "\n",
      "    accuracy                           0.95     28432\n",
      "   macro avg       0.95      0.95      0.95     28432\n",
      "weighted avg       0.95      0.95      0.95     28432\n",
      "\n"
     ]
    }
   ],
   "source": [
    "y_pred = lr.predict(x_test)\n",
    "print(classification_report(y_test, y_pred))"
   ]
  },
  {
   "cell_type": "markdown",
   "id": "49b65231",
   "metadata": {},
   "source": [
    "#### Random Oversampling"
   ]
  },
  {
   "cell_type": "code",
   "execution_count": 18,
   "id": "54beb3dd",
   "metadata": {},
   "outputs": [
    {
     "data": {
      "text/plain": [
       "Class\n",
       "0    284315\n",
       "1    284315\n",
       "Name: count, dtype: int64"
      ]
     },
     "execution_count": 18,
     "metadata": {},
     "output_type": "execute_result"
    }
   ],
   "source": [
    "ros = RandomOverSampler(random_state=42)\n",
    "x_res, y_res = ros.fit_resample(X, y)\n",
    "df_res = pd.concat([x_res, y_res])\n",
    "y_res.value_counts()"
   ]
  },
  {
   "cell_type": "code",
   "execution_count": 19,
   "id": "10fa82f1",
   "metadata": {},
   "outputs": [
    {
     "name": "stdout",
     "output_type": "stream",
     "text": [
      "The Shape of test samples (28432, 30) (28432,)\n",
      "              precision    recall  f1-score   support\n",
      "\n",
      "           0       0.93      0.98      0.95     14216\n",
      "           1       0.98      0.92      0.95     14216\n",
      "\n",
      "    accuracy                           0.95     28432\n",
      "   macro avg       0.95      0.95      0.95     28432\n",
      "weighted avg       0.95      0.95      0.95     28432\n",
      "\n"
     ]
    }
   ],
   "source": [
    "x_train, x_test, y_train, y_test = train_test_split(x_res, y_res, test_size=0.05, random_state=42, stratify=y_res)\n",
    "\n",
    "lr = LogisticRegression().fit(x_train, y_train)\n",
    "y_pred = lr.predict(x_test)\n",
    "\n",
    "print('The Shape of test samples',x_test.shape, y_test.shape)\n",
    "print(classification_report(y_test, y_pred))"
   ]
  },
  {
   "cell_type": "markdown",
   "id": "8202eff9",
   "metadata": {},
   "source": [
    "Getting better with this technique\n",
    "\n",
    "**We will use this method..**"
   ]
  },
  {
   "cell_type": "markdown",
   "id": "6740f991",
   "metadata": {},
   "source": [
    "### Building Neural Networks with TensorFlow"
   ]
  },
  {
   "cell_type": "code",
   "execution_count": 20,
   "id": "3947fb9b",
   "metadata": {},
   "outputs": [],
   "source": [
    "import tensorflow\n",
    "from tensorflow.keras.models import Sequential\n",
    "from tensorflow.keras.layers import Activation\n",
    "from tensorflow.keras.layers import Dense\n",
    "from tensorflow.keras.optimizers import Adam\n",
    "from tensorflow.keras.metrics import categorical_crossentropy"
   ]
  },
  {
   "cell_type": "code",
   "execution_count": 21,
   "id": "435596e5",
   "metadata": {},
   "outputs": [
    {
     "name": "stdout",
     "output_type": "stream",
     "text": [
      "Model: \"sequential\"\n",
      "_________________________________________________________________\n",
      " Layer (type)                Output Shape              Param #   \n",
      "=================================================================\n",
      " dense (Dense)               (None, 32)                992       \n",
      "                                                                 \n",
      " dense_1 (Dense)             (None, 16)                528       \n",
      "                                                                 \n",
      " dense_2 (Dense)             (None, 2)                 34        \n",
      "                                                                 \n",
      "=================================================================\n",
      "Total params: 1554 (6.07 KB)\n",
      "Trainable params: 1554 (6.07 KB)\n",
      "Non-trainable params: 0 (0.00 Byte)\n",
      "_________________________________________________________________\n"
     ]
    }
   ],
   "source": [
    "NN = Sequential([\n",
    "    Dense(32, input_shape=(30, ), activation='relu'),\n",
    "    Dense(16, activation='relu'),\n",
    "    Dense(2, activation='softmax')\n",
    "])\n",
    "\n",
    "NN.summary()"
   ]
  },
  {
   "cell_type": "code",
   "execution_count": 22,
   "id": "1ae7b36f",
   "metadata": {},
   "outputs": [],
   "source": [
    "NN.compile(Adam(learning_rate=0.001), loss='sparse_categorical_crossentropy', metrics=['accuracy'])"
   ]
  },
  {
   "cell_type": "code",
   "execution_count": 23,
   "id": "45c32e29",
   "metadata": {},
   "outputs": [
    {
     "name": "stdout",
     "output_type": "stream",
     "text": [
      "Epoch 1/50\n",
      "4010/4010 [==============================] - 7s 1ms/step - loss: 0.0487 - accuracy: 0.9833 - val_loss: 0.0125 - val_accuracy: 0.9974\n",
      "Epoch 2/50\n",
      "4010/4010 [==============================] - 5s 1ms/step - loss: 0.0082 - accuracy: 0.9983 - val_loss: 0.0064 - val_accuracy: 0.9986\n",
      "Epoch 3/50\n",
      "4010/4010 [==============================] - 5s 1ms/step - loss: 0.0052 - accuracy: 0.9989 - val_loss: 0.0049 - val_accuracy: 0.9990\n",
      "Epoch 4/50\n",
      "4010/4010 [==============================] - 5s 1ms/step - loss: 0.0041 - accuracy: 0.9991 - val_loss: 0.0036 - val_accuracy: 0.9993\n",
      "Epoch 5/50\n",
      "4010/4010 [==============================] - 5s 1ms/step - loss: 0.0035 - accuracy: 0.9993 - val_loss: 0.0029 - val_accuracy: 0.9993\n",
      "Epoch 6/50\n",
      "4010/4010 [==============================] - 5s 1ms/step - loss: 0.0031 - accuracy: 0.9993 - val_loss: 0.0038 - val_accuracy: 0.9993\n",
      "Epoch 7/50\n",
      "4010/4010 [==============================] - 5s 1ms/step - loss: 0.0027 - accuracy: 0.9994 - val_loss: 0.0032 - val_accuracy: 0.9993\n",
      "Epoch 8/50\n",
      "4010/4010 [==============================] - 5s 1ms/step - loss: 0.0024 - accuracy: 0.9995 - val_loss: 0.0047 - val_accuracy: 0.9991\n",
      "Epoch 9/50\n",
      "4010/4010 [==============================] - 6s 1ms/step - loss: 0.0022 - accuracy: 0.9996 - val_loss: 0.0037 - val_accuracy: 0.9998\n",
      "Epoch 10/50\n",
      "4010/4010 [==============================] - 5s 1ms/step - loss: 0.0018 - accuracy: 0.9996 - val_loss: 0.0024 - val_accuracy: 0.9995\n",
      "Epoch 11/50\n",
      "4010/4010 [==============================] - 5s 1ms/step - loss: 0.0018 - accuracy: 0.9996 - val_loss: 0.0018 - val_accuracy: 0.9997\n",
      "Epoch 12/50\n",
      "4010/4010 [==============================] - 5s 1ms/step - loss: 0.0018 - accuracy: 0.9996 - val_loss: 0.0019 - val_accuracy: 0.9996\n",
      "Epoch 13/50\n",
      "4010/4010 [==============================] - 5s 1ms/step - loss: 0.0017 - accuracy: 0.9997 - val_loss: 0.0020 - val_accuracy: 0.9996\n",
      "Epoch 14/50\n",
      "4010/4010 [==============================] - 5s 1ms/step - loss: 0.0017 - accuracy: 0.9996 - val_loss: 0.0018 - val_accuracy: 0.9997\n",
      "Epoch 15/50\n",
      "4010/4010 [==============================] - 5s 1ms/step - loss: 0.0017 - accuracy: 0.9997 - val_loss: 0.0016 - val_accuracy: 0.9997\n",
      "Epoch 16/50\n",
      "4010/4010 [==============================] - 5s 1ms/step - loss: 0.0012 - accuracy: 0.9998 - val_loss: 0.0018 - val_accuracy: 0.9996\n",
      "Epoch 17/50\n",
      "4010/4010 [==============================] - 5s 1ms/step - loss: 0.0014 - accuracy: 0.9997 - val_loss: 0.0019 - val_accuracy: 0.9996\n",
      "Epoch 18/50\n",
      "4010/4010 [==============================] - 5s 1ms/step - loss: 0.0012 - accuracy: 0.9997 - val_loss: 0.0022 - val_accuracy: 0.9997\n",
      "Epoch 19/50\n",
      "4010/4010 [==============================] - 5s 1ms/step - loss: 0.0014 - accuracy: 0.9997 - val_loss: 0.0013 - val_accuracy: 0.9996\n",
      "Epoch 20/50\n",
      "4010/4010 [==============================] - 5s 1ms/step - loss: 0.0013 - accuracy: 0.9997 - val_loss: 0.0013 - val_accuracy: 0.9996\n",
      "Epoch 21/50\n",
      "4010/4010 [==============================] - 5s 1ms/step - loss: 0.0011 - accuracy: 0.9998 - val_loss: 0.0018 - val_accuracy: 0.9996\n",
      "Epoch 22/50\n",
      "4010/4010 [==============================] - 5s 1ms/step - loss: 0.0011 - accuracy: 0.9998 - val_loss: 0.0015 - val_accuracy: 0.9997\n",
      "Epoch 23/50\n",
      "4010/4010 [==============================] - 5s 1ms/step - loss: 0.0010 - accuracy: 0.9998 - val_loss: 0.0021 - val_accuracy: 0.9995\n",
      "Epoch 24/50\n",
      "4010/4010 [==============================] - 5s 1ms/step - loss: 9.7316e-04 - accuracy: 0.9998 - val_loss: 0.0467 - val_accuracy: 0.9943\n",
      "Epoch 25/50\n",
      "4010/4010 [==============================] - 5s 1ms/step - loss: 9.8754e-04 - accuracy: 0.9998 - val_loss: 0.0014 - val_accuracy: 0.9997\n",
      "Epoch 26/50\n",
      "4010/4010 [==============================] - 6s 1ms/step - loss: 8.5162e-04 - accuracy: 0.9998 - val_loss: 0.0015 - val_accuracy: 0.9997\n",
      "Epoch 27/50\n",
      "4010/4010 [==============================] - 5s 1ms/step - loss: 7.1844e-04 - accuracy: 0.9999 - val_loss: 0.0010 - val_accuracy: 0.9998\n",
      "Epoch 28/50\n",
      "4010/4010 [==============================] - 5s 1ms/step - loss: 0.0010 - accuracy: 0.9998 - val_loss: 0.0017 - val_accuracy: 0.9996\n",
      "Epoch 29/50\n",
      "4010/4010 [==============================] - 5s 1ms/step - loss: 8.1356e-04 - accuracy: 0.9999 - val_loss: 0.0020 - val_accuracy: 0.9996\n",
      "Epoch 30/50\n",
      "4010/4010 [==============================] - 5s 1ms/step - loss: 7.4489e-04 - accuracy: 0.9998 - val_loss: 0.0019 - val_accuracy: 0.9996\n",
      "Epoch 31/50\n",
      "4010/4010 [==============================] - 5s 1ms/step - loss: 8.6470e-04 - accuracy: 0.9998 - val_loss: 0.0024 - val_accuracy: 0.9996\n",
      "Epoch 32/50\n",
      "4010/4010 [==============================] - 5s 1ms/step - loss: 7.4517e-04 - accuracy: 0.9998 - val_loss: 0.0020 - val_accuracy: 0.9997\n",
      "Epoch 33/50\n",
      "4010/4010 [==============================] - 5s 1ms/step - loss: 7.2090e-04 - accuracy: 0.9998 - val_loss: 0.0023 - val_accuracy: 0.9996\n",
      "Epoch 34/50\n",
      "4010/4010 [==============================] - 5s 1ms/step - loss: 7.4669e-04 - accuracy: 0.9998 - val_loss: 0.0018 - val_accuracy: 0.9997\n",
      "Epoch 35/50\n",
      "4010/4010 [==============================] - 5s 1ms/step - loss: 7.8260e-04 - accuracy: 0.9999 - val_loss: 0.0020 - val_accuracy: 0.9997\n",
      "Epoch 36/50\n",
      "4010/4010 [==============================] - 5s 1ms/step - loss: 7.0780e-04 - accuracy: 0.9999 - val_loss: 0.0021 - val_accuracy: 0.9997\n",
      "Epoch 37/50\n",
      "4010/4010 [==============================] - 5s 1ms/step - loss: 6.7261e-04 - accuracy: 0.9999 - val_loss: 0.0014 - val_accuracy: 0.9998\n",
      "Epoch 38/50\n",
      "4010/4010 [==============================] - 6s 1ms/step - loss: 7.4979e-04 - accuracy: 0.9998 - val_loss: 0.0016 - val_accuracy: 0.9998\n",
      "Epoch 39/50\n",
      "4010/4010 [==============================] - 5s 1ms/step - loss: 7.5930e-04 - accuracy: 0.9998 - val_loss: 0.0048 - val_accuracy: 0.9984\n",
      "Epoch 40/50\n",
      "4010/4010 [==============================] - 5s 1ms/step - loss: 5.9874e-04 - accuracy: 0.9999 - val_loss: 0.0019 - val_accuracy: 0.9997\n",
      "Epoch 41/50\n",
      "4010/4010 [==============================] - 5s 1ms/step - loss: 7.2914e-04 - accuracy: 0.9998 - val_loss: 0.0015 - val_accuracy: 0.9998\n",
      "Epoch 42/50\n",
      "4010/4010 [==============================] - 5s 1ms/step - loss: 4.7256e-04 - accuracy: 0.9999 - val_loss: 0.0030 - val_accuracy: 0.9996\n",
      "Epoch 43/50\n",
      "4010/4010 [==============================] - 5s 1ms/step - loss: 6.2523e-04 - accuracy: 0.9998 - val_loss: 0.0018 - val_accuracy: 0.9997\n",
      "Epoch 44/50\n",
      "4010/4010 [==============================] - 5s 1ms/step - loss: 7.3608e-04 - accuracy: 0.9999 - val_loss: 0.0022 - val_accuracy: 0.9996\n",
      "Epoch 45/50\n",
      "4010/4010 [==============================] - 5s 1ms/step - loss: 6.1026e-04 - accuracy: 0.9999 - val_loss: 0.0028 - val_accuracy: 0.9997\n",
      "Epoch 46/50\n",
      "4010/4010 [==============================] - 5s 1ms/step - loss: 5.8688e-04 - accuracy: 0.9999 - val_loss: 0.0015 - val_accuracy: 0.9997\n",
      "Epoch 47/50\n",
      "4010/4010 [==============================] - 5s 1ms/step - loss: 7.6682e-04 - accuracy: 0.9998 - val_loss: 0.0023 - val_accuracy: 0.9996\n",
      "Epoch 48/50\n",
      "4010/4010 [==============================] - 5s 1ms/step - loss: 5.5486e-04 - accuracy: 0.9999 - val_loss: 0.0015 - val_accuracy: 0.9996\n",
      "Epoch 49/50\n",
      "4010/4010 [==============================] - 5s 1ms/step - loss: 6.6686e-04 - accuracy: 0.9999 - val_loss: 0.0027 - val_accuracy: 0.9997\n",
      "Epoch 50/50\n",
      "4010/4010 [==============================] - 5s 1ms/step - loss: 6.1362e-04 - accuracy: 0.9999 - val_loss: 0.0020 - val_accuracy: 0.9997\n"
     ]
    },
    {
     "data": {
      "text/plain": [
       "<keras.src.callbacks.History at 0x1fac2df39d0>"
      ]
     },
     "execution_count": 23,
     "metadata": {},
     "output_type": "execute_result"
    }
   ],
   "source": [
    "NN.fit(x_train, y_train, validation_split=0.05, batch_size=128, epochs=50, shuffle=True)"
   ]
  },
  {
   "cell_type": "code",
   "execution_count": 24,
   "id": "b39ccab0",
   "metadata": {},
   "outputs": [
    {
     "name": "stdout",
     "output_type": "stream",
     "text": [
      "889/889 [==============================] - 1s 1ms/step\n",
      "              precision    recall  f1-score   support\n",
      "\n",
      "           0       1.00      1.00      1.00     14216\n",
      "           1       1.00      1.00      1.00     14216\n",
      "\n",
      "    accuracy                           1.00     28432\n",
      "   macro avg       1.00      1.00      1.00     28432\n",
      "weighted avg       1.00      1.00      1.00     28432\n",
      "\n"
     ]
    }
   ],
   "source": [
    "NN_pred = np.argmax(NN.predict(x_test), axis=1)\n",
    "print(classification_report(y_test, NN_pred))"
   ]
  },
  {
   "cell_type": "markdown",
   "id": "13f56e91",
   "metadata": {},
   "source": [
    "**Evaluate Model On Unseen Data**"
   ]
  },
  {
   "cell_type": "code",
   "execution_count": 25,
   "id": "e9d93474",
   "metadata": {},
   "outputs": [
    {
     "name": "stdout",
     "output_type": "stream",
     "text": [
      "90/90 [==============================] - 0s 1ms/step\n",
      "              precision    recall  f1-score   support\n",
      "\n",
      "           0       1.00      1.00      1.00      2845\n",
      "           1       1.00      1.00      1.00         4\n",
      "\n",
      "    accuracy                           1.00      2849\n",
      "   macro avg       1.00      1.00      1.00      2849\n",
      "weighted avg       1.00      1.00      1.00      2849\n",
      "\n"
     ]
    },
    {
     "data": {
      "image/png": "[encoded data removed]",
      "text/plain": [
       "<Figure size 640x480 with 2 Axes>"
      ]
     },
     "metadata": {},
     "output_type": "display_data"
    }
   ],
   "source": [
    "NN_pred = np.argmax(NN.predict(x_test_final), axis=1)\n",
    "print(classification_report(y_test_final, NN_pred))\n",
    "\n",
    "cm = confusion_matrix(y_test_final, NN_pred)\n",
    "disp = ConfusionMatrixDisplay(confusion_matrix=cm)\n",
    "disp.plot()\n",
    "plt.show()"
   ]
  },
  {
   "cell_type": "markdown",
   "id": "2cc9e79b",
   "metadata": {},
   "source": [
    "### This is a very good model with accuracy about 100%"
   ]
  }
 ],
 "metadata": {
  "kernelspec": {
   "display_name": "Python 3 (ipykernel)",
   "language": "python",
   "name": "python3"
  },
  "language_info": {
   "codemirror_mode": {
    "name": "ipython",
    "version": 3
   },
   "file_extension": ".py",
   "mimetype": "text/x-python",
   "name": "python",
   "nbconvert_exporter": "python",
   "pygments_lexer": "ipython3",
   "version": "3.11.5"
  }
 },
 "nbformat": 4,
 "nbformat_minor": 5
}
